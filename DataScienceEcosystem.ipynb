{
  "metadata": {
    "kernelspec": {
      "name": "python",
      "display_name": "Python (Pyodide)",
      "language": "python"
    },
    "language_info": {
      "codemirror_mode": {
        "name": "python",
        "version": 3
      },
      "file_extension": ".py",
      "mimetype": "text/x-python",
      "name": "python",
      "nbconvert_exporter": "python",
      "pygments_lexer": "ipython3",
      "version": "3.8"
    }
  },
  "nbformat_minor": 4,
  "nbformat": 4,
  "cells": [
    {
      "cell_type": "markdown",
      "source": "#### - Exercise 2: Create markdown cell with title of the notebook",
      "metadata": {}
    },
    {
      "cell_type": "markdown",
      "source": "# Data Science Tools and Ecosystem",
      "metadata": {}
    },
    {
      "cell_type": "markdown",
      "source": "#### - Exercise 3: Create a markdown cell for an introduction",
      "metadata": {}
    },
    {
      "cell_type": "markdown",
      "source": "##### This notebook represented my first Peers Work in Data Science course.",
      "metadata": {}
    },
    {
      "cell_type": "markdown",
      "source": "#### - Exercise 4 - Create a markdown cell to list data science languages",
      "metadata": {}
    },
    {
      "cell_type": "markdown",
      "source": "##### Some of the commonly used libraries used by Data Scientists include:\n- Python - Widely used for data analysis, machine learning, and visualization libraries like Pandas, NumPy, Scikit-learn, TensorFlow, and Matplotlib.\n- R - Popular for statistical analysis, data visualization, and building machine learning models.\n- SQL - Essential for working with databases, querying large datasets, and managing data.\n- Julia - Known for high-performance numerical analysis and computational science.\n- Scala - Often used with Apache Spark for big data processing.\n- Java - Used in some machine learning frameworks and for big data systems.\n- MATLAB - Used in scientific computing, machine learning, and data visualization.",
      "metadata": {}
    },
    {
      "cell_type": "markdown",
      "source": "#### - Exercise 5 - Create a markdown cell to list data science libraries\nSome of the commonly used libraries used by Data Scientists include:\n- Pandas - For data manipulation and analysis, especially working with structured data like CSV files.\n- NumPy - Provides support for large multi-dimensional arrays and matrices, along with mathematical functions.\n- Scikit-learn - A library for machine learning, providing tools for classification, regression, clustering, and dimensionality reduction.\n- TensorFlow - A library for machine learning and deep learning, often used for neural networks.\n- Keras - An easy-to-use deep learning library that runs on top of TensorFlow or Theano.\n- Matplotlib - A plotting library for creating static, animated, and interactive visualizations.\n- Seaborn - Built on top of Matplotlib, it's used for making statistical graphics.\n- SciPy - For scientific and technical computing, including optimization, integration, and signal processing.\n- PyTorch - Another deep learning library, popular for its flexibility and ease of use, especially for research.\n- NLTK (Natural Language Toolkit) - For working with human language data, useful in natural language processing (NLP) tasks.",
      "metadata": {}
    },
    {
      "cell_type": "markdown",
      "source": "#### - Exercise 6 - Create a markdown cell with a table of Data Science tools\n|Data Science Tools|\n|------------------|\n|Jypiter Notebooks|\n|Rstudio|\n|Apache Zeppelin|",
      "metadata": {}
    },
    {
      "cell_type": "markdown",
      "source": "#### - Exercise 7 - Create a markdown cell introducing arithmetic expression examples\n### Below are a few examples of evaluating arithmetic expressions in Python",
      "metadata": {}
    },
    {
      "cell_type": "markdown",
      "source": "#### - Exercise 8 - Create a code cell to multiply and add numbers\n\n",
      "metadata": {}
    },
    {
      "cell_type": "markdown",
      "source": "*this a simple arithmetic expression to mutiply then add integers*\n",
      "metadata": {}
    },
    {
      "cell_type": "code",
      "source": "result=(3*4)+5\nprint(\"(3*4)+5 =\",result)",
      "metadata": {
        "trusted": true
      },
      "outputs": [
        {
          "name": "stdout",
          "text": "(3*4)+5 = 17\n",
          "output_type": "stream"
        }
      ],
      "execution_count": 4
    },
    {
      "cell_type": "markdown",
      "source": "#### - Exercise 9 - Create a code cell to convert minutes to hours\n*This will convert 200 minutes to hours by diving by 60*",
      "metadata": {}
    },
    {
      "cell_type": "code",
      "source": "t_min=200\nt_hours=t_min/60\nprint(\"t_hours =\",t_hours)",
      "metadata": {
        "trusted": true
      },
      "outputs": [
        {
          "name": "stdout",
          "text": "t_hours = 3.3333333333333335\n",
          "output_type": "stream"
        }
      ],
      "execution_count": 5
    },
    {
      "cell_type": "markdown",
      "source": "#### - Exercise 10 - Insert a markdown cell to list Objectives\n## Objectives\n- Learn about various data science languages and libraries.\n- Understand popular data science tools.\n- Evaluate arithmetic expressions in Python.\n- Convert time units (minutes to hours) using Python.",
      "metadata": {}
    },
    {
      "cell_type": "markdown",
      "source": "#### - Exercise 11 - Insert a markdown cell to list Objectives",
      "metadata": {}
    },
    {
      "cell_type": "markdown",
      "source": "## Author\nA. Rostov",
      "metadata": {}
    },
    {
      "cell_type": "code",
      "source": "",
      "metadata": {
        "trusted": true
      },
      "outputs": [],
      "execution_count": null
    }
  ]
}